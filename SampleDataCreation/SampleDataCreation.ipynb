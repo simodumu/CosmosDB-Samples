{
  "cells": [
    {
      "cell_type": "code",
      "execution_count": 1,
      "id": "abbd90eb-1378-47cd-9e00-2f8ae4b4da6c",
      "metadata": {
        "collapsed": true,
        "execution": {
          "iopub.execute_input": "2023-03-15T13:48:41.644Z",
          "iopub.status.busy": "2023-03-15T13:48:41.638Z",
          "iopub.status.idle": "2023-03-15T13:48:41.653Z",
          "shell.execute_reply": "2023-03-15T13:48:41.649Z"
        },
        "jupyter": {
          "outputs_hidden": false,
          "source_hidden": false
        },
        "nteract": {
          "transient": {
            "deleting": false
          }
        },
        "trusted": false
      },
      "outputs": [],
      "source": "import azure.cosmos\nfrom azure.cosmos.partition_key import PartitionKey"
    },
    {
      "cell_type": "code",
      "execution_count": 2,
      "id": "0d2db4f5-18e9-47d9-b0a9-399e55005627",
      "metadata": {
        "collapsed": true,
        "execution": {
          "iopub.execute_input": "2023-03-15T13:48:44.405Z",
          "iopub.status.busy": "2023-03-15T13:48:44.333Z",
          "iopub.status.idle": "2023-03-15T13:48:44.432Z",
          "shell.execute_reply": "2023-03-15T13:48:44.425Z"
        },
        "jupyter": {
          "outputs_hidden": false,
          "source_hidden": false
        },
        "nteract": {
          "transient": {
            "deleting": false
          }
        },
        "trusted": false
      },
      "outputs": [],
      "source": "#create the database\ndatabase = cosmos_client.create_database_if_not_exists('RetailIngest')\n"
    },
    {
      "cell_type": "code",
      "execution_count": 3,
      "id": "c29543de-bf1b-4368-8b65-d7102f13ad57",
      "metadata": {
        "collapsed": true,
        "execution": {
          "iopub.execute_input": "2023-03-15T13:48:52.213Z",
          "iopub.status.busy": "2023-03-15T13:48:52.202Z",
          "iopub.status.idle": "2023-03-15T13:48:52.223Z",
          "shell.execute_reply": "2023-03-15T13:48:52.216Z"
        },
        "jupyter": {
          "outputs_hidden": false,
          "source_hidden": false
        },
        "nteract": {
          "transient": {
            "deleting": false
          }
        },
        "trusted": false
      },
      "outputs": [],
      "source": "#create the container with default index(which indexes all properties in the documents)\ncontainer1 = database.create_container_if_not_exists(id='WebsiteMetrics', partition_key=PartitionKey(path='/CartID'))"
    },
    {
      "cell_type": "code",
      "execution_count": null,
      "id": "00bb268c-cafa-4e3e-a3e7-df0b4cfb157e",
      "metadata": {
        "collapsed": true,
        "jupyter": {
          "outputs_hidden": false,
          "source_hidden": false
        },
        "nteract": {
          "transient": {
            "deleting": false
          }
        },
        "trusted": false
      },
      "outputs": [],
      "source": "#insert data into the WebsiteMetrics\n%%upload --databaseName RetailIngest --containerName WebsiteMetrics --url https://cosmosnotebooksdata.blob.core.windows.net/notebookdata/websiteData.json"
    },
    {
      "cell_type": "code",
      "execution_count": 5,
      "id": "e965aedc-6b5f-4d90-aa33-a88ca9080ae4",
      "metadata": {
        "collapsed": true,
        "execution": {
          "iopub.execute_input": "2023-03-15T13:59:18.753Z",
          "iopub.status.busy": "2023-03-15T13:59:18.739Z",
          "iopub.status.idle": "2023-03-15T13:59:19.696Z",
          "shell.execute_reply": "2023-03-15T13:59:19.882Z"
        },
        "jupyter": {
          "outputs_hidden": false,
          "source_hidden": false
        },
        "nteract": {
          "transient": {
            "deleting": false
          }
        },
        "trusted": false
      },
      "outputs": [],
      "source": "#create another container, excluding the index on the property you are quering \n#ex; your query is \"select * from c where c.Price >=300\" and Price is not indexed\ncontainer_definition ={\n  # Specify your indexing policy here\n    \"indexingPolicy\": {\n    \"indexingMode\": \"consistent\",\n    \"automatic\": True,\n    \"includedPaths\": [\n        {\n            \"path\": \"/CartID/*\"\n        }\n    ],\n    \"excludedPaths\": [\n        {\n            \"path\": \"/*\"\n        },\n        {\n            \"path\": \"/\\\"_etag\\\"/?\"\n        }\n    ]\n    }\n }\n#create the container2 using above index definition\ncontainer2 = database.create_container_if_not_exists(id='WebsiteMetricsNoIndex', partition_key=PartitionKey(path='/CartID'),indexing_policy=container_definition[\"indexingPolicy\"])\n"
    },
    {
      "cell_type": "code",
      "execution_count": 5,
      "id": "279b64f5-9d66-4f4b-99e1-f05c29d023e0",
      "metadata": {
        "collapsed": true,
        "execution": {
          "iopub.status.busy": "2023-03-15T13:49:24.143Z",
          "iopub.status.idle": "2023-03-15T13:50:01.037Z",
          "shell.execute_reply": "2023-03-15T13:50:01.050Z"
        },
        "jupyter": {
          "outputs_hidden": false,
          "source_hidden": false
        },
        "nteract": {
          "transient": {
            "deleting": false
          }
        },
        "trusted": false
      },
      "outputs": [
        {
          "data": {
            "text/html": "\n<span style='color:#0078D4'>\nDocuments successfully uploaded to WebsiteMetricsNoIndex3 <br/>\nTotal number of documents imported:<br/>\n&nbsp;&nbsp;Success: <b>2654</b> <br/>\n&nbsp;&nbsp;Failure: <b>0</b> <br/>\nTotal time taken : <b>00:00:36</b> hours <br/>\nTotal RUs consumed : <b>16693.660000001135</b> <br/>\n<br/>\n</span>\n"
          },
          "metadata": {},
          "output_type": "display_data"
        }
      ],
      "source": "#insert data into the WebsiteMetricsNoIndex\n%%upload --databaseName RetailIngest --containerName WebsiteMetricsNoIndex --url https://cosmosnotebooksdata.blob.core.windows.net/notebookdata/websiteData.json"
    },
    {
      "cell_type": "code",
      "execution_count": 9,
      "id": "cdb8ce32-75fc-471f-aac4-6bd305315578",
      "metadata": {
        "collapsed": true,
        "execution": {
          "iopub.execute_input": "2023-03-15T14:25:18.306Z",
          "iopub.status.busy": "2023-03-15T14:25:18.251Z",
          "iopub.status.idle": "2023-03-15T14:25:18.313Z",
          "shell.execute_reply": "2023-03-15T14:25:18.309Z"
        },
        "jupyter": {
          "outputs_hidden": false,
          "source_hidden": false
        },
        "nteract": {
          "transient": {
            "deleting": false
          }
        },
        "trusted": false
      },
      "outputs": [
        {
          "data": {
            "text/html": "\n<div>\n  <style type='text/css' scoped>\n.collapsible {\n  background-color: #fff;\n  color: #0078D4;\n  cursor: pointer;\n  padding: 10px;\n  border: none;\n  text-align: left;\n  outline: none;\n  font-size: 15px;\n  border-radius: 5px;\n  margin: 5px\n}\n\n.active, .collapsible:hover {\n  color: #4db2ff;\n}\n\n.content {\n  margin: 2px;\n  padding: 0 18px;\n  overflow: hidden;\n  background-color: #fff;\n  height: 0px;\n  -moz-transition: height .2s ease-out;\n  -ms-transition: height .2s ease-out;\n  -o-transition: height .2s ease-out;\n  -webkit-transition: height .2s ease-out;\n  transition: height .2s ease-out;\n}\n</style>\n\n<button type='button' class='collapsible'>� View Query Metrics</button>\n  \n<div class='content'>\n  <div class='measuringWrapper'>\n    <span style=\"color:#0078D4\"><b>totalExecutionTimeInMs    </b>:    2.02<br/><b>queryCompileTimeInMs    </b>:    0.08<br/><b>queryLogicalPlanBuildTimeInMs    </b>:    0.02<br/><b>queryPhysicalPlanBuildTimeInMs    </b>:    0.12000000000000001<br/><b>queryOptimizationTimeInMs    </b>:    0<br/><b>VMExecutionTimeInMs    </b>:    1.44<br/><b>indexLookupTimeInMs    </b>:    0.12000000000000001<br/><b>instructionCount    </b>:    442<br/><b>documentLoadTimeInMs    </b>:    1.18<br/><b>systemFunctionExecuteTimeInMs    </b>:    0<br/><b>userFunctionExecuteTimeInMs    </b>:    0<br/><b>retrievedDocumentCount    </b>:    54<br/><b>retrievedDocumentSize    </b>:    28112<br/><b>outputDocumentCount    </b>:    54<br/><b>outputDocumentSize    </b>:    28264<br/><b>writeOutputTimeInMs    </b>:    0.04<br/><b>averageIndexUtilizationRation    </b>:    1<br/></span>\n  </div>\n</div>\n\n<script>\nvar coll = document.getElementsByClassName('collapsible');\nvar i;\n\nfor (i = 0; i < coll.length; i++) {\n  \n  coll[i].addEventListener('click', function() {\n    this.classList.toggle('active');\n    var content = this.nextElementSibling;\n    \n    if (content.clientHeight != 0) {\n      this.textContent = '� View Query Metrics';\n      content.style.height = '0px';\n    }\n    else {\n      this.textContent = '� Hide Query Metrics';\n      content.style.height = content.children[0].clientHeight + 'px';\n    }\n  });\n}\n</script>\n</div>"
          },
          "metadata": {},
          "output_type": "display_data"
        }
      ],
      "source": "#execute the query which is using index\n# expand \"Hide Query Metrics\" and observe the taken for the query\n%%sql --database RetailIngest --container WebsiteMetrics --output df_cosmos\nselect * from c where c.Price >=300"
    },
    {
      "cell_type": "code",
      "execution_count": 10,
      "id": "c53d4f9c-9c64-476a-9f23-632ba1e81f16",
      "metadata": {
        "collapsed": true,
        "execution": {
          "iopub.execute_input": "2023-03-15T14:26:00.283Z",
          "iopub.status.busy": "2023-03-15T14:26:00.271Z",
          "iopub.status.idle": "2023-03-15T14:26:00.306Z",
          "shell.execute_reply": "2023-03-15T14:26:00.302Z"
        },
        "jupyter": {
          "outputs_hidden": false,
          "source_hidden": false
        },
        "nteract": {
          "transient": {
            "deleting": false
          }
        },
        "trusted": false
      },
      "outputs": [
        {
          "data": {
            "text/html": "\n<div>\n  <style type='text/css' scoped>\n.collapsible {\n  background-color: #fff;\n  color: #0078D4;\n  cursor: pointer;\n  padding: 10px;\n  border: none;\n  text-align: left;\n  outline: none;\n  font-size: 15px;\n  border-radius: 5px;\n  margin: 5px\n}\n\n.active, .collapsible:hover {\n  color: #4db2ff;\n}\n\n.content {\n  margin: 2px;\n  padding: 0 18px;\n  overflow: hidden;\n  background-color: #fff;\n  height: 0px;\n  -moz-transition: height .2s ease-out;\n  -ms-transition: height .2s ease-out;\n  -o-transition: height .2s ease-out;\n  -webkit-transition: height .2s ease-out;\n  transition: height .2s ease-out;\n}\n</style>\n\n<button type='button' class='collapsible'>� View Query Metrics</button>\n  \n<div class='content'>\n  <div class='measuringWrapper'>\n    <span style=\"color:#0078D4\"><b>totalExecutionTimeInMs    </b>:    7.81<br/><b>queryCompileTimeInMs    </b>:    0.05<br/><b>queryLogicalPlanBuildTimeInMs    </b>:    0.01<br/><b>queryPhysicalPlanBuildTimeInMs    </b>:    0.04<br/><b>queryOptimizationTimeInMs    </b>:    0<br/><b>VMExecutionTimeInMs    </b>:    7.56<br/><b>indexLookupTimeInMs    </b>:    0<br/><b>instructionCount    </b>:    16037<br/><b>documentLoadTimeInMs    </b>:    6.49<br/><b>systemFunctionExecuteTimeInMs    </b>:    0<br/><b>userFunctionExecuteTimeInMs    </b>:    0<br/><b>retrievedDocumentCount    </b>:    2654<br/><b>retrievedDocumentSize    </b>:    1366721<br/><b>outputDocumentCount    </b>:    54<br/><b>outputDocumentSize    </b>:    28215<br/><b>writeOutputTimeInMs    </b>:    0.02<br/><b>averageIndexUtilizationRation    </b>:    0.02<br/></span>\n  </div>\n</div>\n\n<script>\nvar coll = document.getElementsByClassName('collapsible');\nvar i;\n\nfor (i = 0; i < coll.length; i++) {\n  \n  coll[i].addEventListener('click', function() {\n    this.classList.toggle('active');\n    var content = this.nextElementSibling;\n    \n    if (content.clientHeight != 0) {\n      this.textContent = '� View Query Metrics';\n      content.style.height = '0px';\n    }\n    else {\n      this.textContent = '� Hide Query Metrics';\n      content.style.height = content.children[0].clientHeight + 'px';\n    }\n  });\n}\n</script>\n</div>"
          },
          "metadata": {},
          "output_type": "display_data"
        }
      ],
      "source": "#execute the query which is not using index\n# expand \"Hide Query Metrics\" and observe the taken for the query\n%%sql --database RetailIngest --container WebsiteMetricsNoIndex --output df_cosmos\nselect * from c where c.Price >=300"
    }
  ],
  "metadata": {
    "language_info": {
      "file_extension": "ipynb",
      "mimetype": "application/json",
      "name": "python",
      "version": "3.7"
    },
    "nteract": {
      "version": "dataExplorer 1.0"
    }
  },
  "nbformat": 4,
  "nbformat_minor": 5
}