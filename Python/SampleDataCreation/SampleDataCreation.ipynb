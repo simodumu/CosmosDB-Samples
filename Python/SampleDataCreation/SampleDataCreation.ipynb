{
  "cells": [
    {
      "cell_type": "code",
      "source": [
        "import azure.cosmos\n",
        "from azure.cosmos.partition_key import PartitionKey\n",
        "import sys\n"
      ],
      "outputs": [],
      "execution_count": 9,
      "metadata": {
        "collapsed": true,
        "execution": {
          "iopub.execute_input": "2023-03-15T15:58:25.124Z",
          "iopub.status.busy": "2023-03-15T15:58:25.062Z",
          "iopub.status.idle": "2023-03-15T15:58:25.160Z",
          "shell.execute_reply": "2023-03-15T15:58:25.142Z"
        },
        "jupyter": {
          "outputs_hidden": false,
          "source_hidden": false
        },
        "nteract": {
          "transient": {
            "deleting": false
          }
        },
        "trusted": false
      },
      "id": "abbd90eb-1378-47cd-9e00-2f8ae4b4da6c"
    },
    {
      "cell_type": "code",
      "source": [
        "#create the database\n",
        "database = cosmos_client.create_database_if_not_exists('RetailIngest')\n"
      ],
      "outputs": [],
      "execution_count": 10,
      "metadata": {
        "collapsed": true,
        "execution": {
          "iopub.execute_input": "2023-03-15T15:58:27.266Z",
          "iopub.status.busy": "2023-03-15T15:58:27.261Z",
          "iopub.status.idle": "2023-03-15T15:58:27.438Z",
          "shell.execute_reply": "2023-03-15T15:58:27.428Z"
        },
        "jupyter": {
          "outputs_hidden": false,
          "source_hidden": false
        },
        "nteract": {
          "transient": {
            "deleting": false
          }
        },
        "trusted": false
      },
      "id": "0d2db4f5-18e9-47d9-b0a9-399e55005627"
    },
    {
      "cell_type": "code",
      "source": [
        "#create the container with default index(which indexes all properties in the documents)\n",
        "container1 = database.create_container_if_not_exists(id='WebsiteMetrics', partition_key=PartitionKey(path='/CartID'))"
      ],
      "outputs": [],
      "execution_count": 11,
      "metadata": {
        "collapsed": true,
        "execution": {
          "iopub.execute_input": "2023-03-15T15:58:28.836Z",
          "iopub.status.busy": "2023-03-15T15:58:28.828Z",
          "iopub.status.idle": "2023-03-15T15:58:28.871Z",
          "shell.execute_reply": "2023-03-15T15:58:28.862Z"
        },
        "jupyter": {
          "outputs_hidden": false,
          "source_hidden": false
        },
        "nteract": {
          "transient": {
            "deleting": false
          }
        },
        "trusted": false
      },
      "id": "c29543de-bf1b-4368-8b65-d7102f13ad57"
    },
    {
      "cell_type": "code",
      "source": [
        "#insert data into the WebsiteMetrics\n",
        "%%upload --databaseName RetailIngest --containerName WebsiteMetrics --url https://cosmosnotebooksdata.blob.core.windows.net/notebookdata/websiteData.json"
      ],
      "outputs": [
        {
          "output_type": "stream",
          "name": "stderr",
          "text": [
            "UsageError: Line magic function `%%upload` not found.\n"
          ]
        }
      ],
      "execution_count": 14,
      "metadata": {
        "collapsed": true,
        "jupyter": {
          "outputs_hidden": false,
          "source_hidden": false
        },
        "nteract": {
          "transient": {
            "deleting": false
          }
        },
        "trusted": false,
        "execution": {
          "iopub.status.busy": "2023-03-15T15:59:29.810Z",
          "iopub.execute_input": "2023-03-15T15:59:29.815Z",
          "iopub.status.idle": "2023-03-15T15:59:29.835Z",
          "shell.execute_reply": "2023-03-15T15:59:29.897Z"
        }
      },
      "id": "00bb268c-cafa-4e3e-a3e7-df0b4cfb157e"
    },
    {
      "cell_type": "code",
      "source": [
        "#create another container, excluding the index on the property you are quering \n",
        "#ex; your query is \"select * from c where c.Price >=300\" and Price is not indexed\n",
        "container_definition ={\n",
        "  # Specify your indexing policy here\n",
        "    \"indexingPolicy\": {\n",
        "    \"indexingMode\": \"consistent\",\n",
        "    \"automatic\": True,\n",
        "    \"includedPaths\": [\n",
        "        {\n",
        "            \"path\": \"/CartID/*\"\n",
        "        }\n",
        "    ],\n",
        "    \"excludedPaths\": [\n",
        "        {\n",
        "            \"path\": \"/*\"\n",
        "        },\n",
        "        {\n",
        "            \"path\": \"/\\\"_etag\\\"/?\"\n",
        "        }\n",
        "    ]\n",
        "    }\n",
        " }\n",
        "#create the container2 using above index definition\n",
        "container2 = database.create_container_if_not_exists(id='WebsiteMetricsNoIndex', partition_key=PartitionKey(path='/CartID'),indexing_policy=container_definition[\"indexingPolicy\"])\n"
      ],
      "outputs": [],
      "execution_count": 5,
      "metadata": {
        "collapsed": true,
        "jupyter": {
          "source_hidden": false,
          "outputs_hidden": false
        },
        "nteract": {
          "transient": {
            "deleting": false
          }
        },
        "execution": {
          "iopub.status.busy": "2023-03-15T15:54:01.934Z",
          "iopub.execute_input": "2023-03-15T15:54:01.939Z",
          "shell.execute_reply": "2023-03-15T15:54:01.974Z",
          "iopub.status.idle": "2023-03-15T15:54:01.985Z"
        }
      },
      "id": "e965aedc-6b5f-4d90-aa33-a88ca9080ae4"
    },
    {
      "cell_type": "code",
      "source": [
        "pip install azure-cosmos"
      ],
      "outputs": [
        {
          "output_type": "stream",
          "name": "stdout",
          "text": [
            "Defaulting to user installation because normal site-packages is not writeable\n",
            "Requirement already satisfied: azure-cosmos in ./.local/lib/python3.6/site-packages (4.1.0)\n",
            "Requirement already satisfied: azure-core<2.0.0,>=1.0.0 in ./.local/lib/python3.6/site-packages (from azure-cosmos) (1.7.0)\n",
            "Requirement already satisfied: six>=1.6 in ./.local/lib/python3.6/site-packages (from azure-cosmos) (1.16.0)\n",
            "Requirement already satisfied: requests>=2.18.4 in ./.local/lib/python3.6/site-packages (from azure-core<2.0.0,>=1.0.0->azure-cosmos) (2.27.1)\n",
            "Requirement already satisfied: charset-normalizer~=2.0.0 in ./.local/lib/python3.6/site-packages (from requests>=2.18.4->azure-core<2.0.0,>=1.0.0->azure-cosmos) (2.0.12)\n",
            "Requirement already satisfied: idna<4,>=2.5 in ./.local/lib/python3.6/site-packages (from requests>=2.18.4->azure-core<2.0.0,>=1.0.0->azure-cosmos) (3.4)\n",
            "Requirement already satisfied: certifi>=2017.4.17 in ./.local/lib/python3.6/site-packages (from requests>=2.18.4->azure-core<2.0.0,>=1.0.0->azure-cosmos) (2022.12.7)\n",
            "Requirement already satisfied: urllib3<1.27,>=1.21.1 in ./.local/lib/python3.6/site-packages (from requests>=2.18.4->azure-core<2.0.0,>=1.0.0->azure-cosmos) (1.26.14)\n",
            "Note: you may need to restart the kernel to use updated packages.\n"
          ]
        }
      ],
      "execution_count": 13,
      "metadata": {
        "collapsed": true,
        "jupyter": {
          "source_hidden": false,
          "outputs_hidden": false
        },
        "nteract": {
          "transient": {
            "deleting": false
          }
        },
        "execution": {
          "iopub.status.busy": "2023-03-15T15:59:21.134Z",
          "iopub.execute_input": "2023-03-15T15:59:21.139Z",
          "shell.execute_reply": "2023-03-15T15:59:23.104Z",
          "iopub.status.idle": "2023-03-15T15:59:23.114Z"
        }
      },
      "id": "a5bf8c39-589f-4ef3-b448-1d4b3f65c83e"
    },
    {
      "cell_type": "code",
      "source": [],
      "outputs": [],
      "execution_count": null,
      "metadata": {
        "collapsed": true,
        "jupyter": {
          "source_hidden": false,
          "outputs_hidden": false
        },
        "nteract": {
          "transient": {
            "deleting": false
          }
        }
      },
      "id": "74aaca03-fcca-44b3-89d7-bc7114e0537e"
    },
    {
      "cell_type": "code",
      "source": [
        "#insert data into the WebsiteMetricsNoIndex\n",
        "%%upload --databaseName RetailIngest --containerName WebsiteMetricsNoIndex --url https://cosmosnotebooksdata.blob.core.windows.net/notebookdata/websiteData.json"
      ],
      "outputs": [
        {
          "output_type": "stream",
          "name": "stderr",
          "text": [
            "UsageError: Line magic function `%%upload` not found.\n"
          ]
        }
      ],
      "execution_count": 8,
      "metadata": {
        "collapsed": true,
        "execution": {
          "iopub.status.busy": "2023-03-15T15:55:38.945Z",
          "iopub.status.idle": "2023-03-15T15:55:38.967Z",
          "shell.execute_reply": "2023-03-15T15:55:38.977Z",
          "iopub.execute_input": "2023-03-15T15:55:38.951Z"
        },
        "jupyter": {
          "outputs_hidden": false,
          "source_hidden": false
        },
        "nteract": {
          "transient": {
            "deleting": false
          }
        },
        "trusted": false
      },
      "id": "279b64f5-9d66-4f4b-99e1-f05c29d023e0"
    },
    {
      "cell_type": "code",
      "source": [
        "#execute the query which is using index\n",
        "# expand \"Hide Query Metrics\" and observe the taken for the query\n",
        "%%sql --database RetailIngest --container WebsiteMetrics --output df_cosmos\n",
        "select * from c where c.Price >=300"
      ],
      "outputs": [
        {
          "output_type": "display_data",
          "data": {
            "text/html": "\n<div>\n  <style type='text/css' scoped>\n.collapsible {\n  background-color: #fff;\n  color: #0078D4;\n  cursor: pointer;\n  padding: 10px;\n  border: none;\n  text-align: left;\n  outline: none;\n  font-size: 15px;\n  border-radius: 5px;\n  margin: 5px\n}\n\n.active, .collapsible:hover {\n  color: #4db2ff;\n}\n\n.content {\n  margin: 2px;\n  padding: 0 18px;\n  overflow: hidden;\n  background-color: #fff;\n  height: 0px;\n  -moz-transition: height .2s ease-out;\n  -ms-transition: height .2s ease-out;\n  -o-transition: height .2s ease-out;\n  -webkit-transition: height .2s ease-out;\n  transition: height .2s ease-out;\n}\n</style>\n\n<button type='button' class='collapsible'>� View Query Metrics</button>\n  \n<div class='content'>\n  <div class='measuringWrapper'>\n    <span style=\"color:#0078D4\"><b>totalExecutionTimeInMs    </b>:    2.02<br/><b>queryCompileTimeInMs    </b>:    0.08<br/><b>queryLogicalPlanBuildTimeInMs    </b>:    0.02<br/><b>queryPhysicalPlanBuildTimeInMs    </b>:    0.12000000000000001<br/><b>queryOptimizationTimeInMs    </b>:    0<br/><b>VMExecutionTimeInMs    </b>:    1.44<br/><b>indexLookupTimeInMs    </b>:    0.12000000000000001<br/><b>instructionCount    </b>:    442<br/><b>documentLoadTimeInMs    </b>:    1.18<br/><b>systemFunctionExecuteTimeInMs    </b>:    0<br/><b>userFunctionExecuteTimeInMs    </b>:    0<br/><b>retrievedDocumentCount    </b>:    54<br/><b>retrievedDocumentSize    </b>:    28112<br/><b>outputDocumentCount    </b>:    54<br/><b>outputDocumentSize    </b>:    28264<br/><b>writeOutputTimeInMs    </b>:    0.04<br/><b>averageIndexUtilizationRation    </b>:    1<br/></span>\n  </div>\n</div>\n\n<script>\nvar coll = document.getElementsByClassName('collapsible');\nvar i;\n\nfor (i = 0; i < coll.length; i++) {\n  \n  coll[i].addEventListener('click', function() {\n    this.classList.toggle('active');\n    var content = this.nextElementSibling;\n    \n    if (content.clientHeight != 0) {\n      this.textContent = '� View Query Metrics';\n      content.style.height = '0px';\n    }\n    else {\n      this.textContent = '� Hide Query Metrics';\n      content.style.height = content.children[0].clientHeight + 'px';\n    }\n  });\n}\n</script>\n</div>"
          },
          "metadata": {}
        }
      ],
      "execution_count": 9,
      "metadata": {
        "collapsed": true,
        "execution": {
          "iopub.execute_input": "2023-03-15T14:25:18.306Z",
          "iopub.status.busy": "2023-03-15T14:25:18.251Z",
          "iopub.status.idle": "2023-03-15T14:25:18.313Z",
          "shell.execute_reply": "2023-03-15T14:25:18.309Z"
        },
        "jupyter": {
          "outputs_hidden": false,
          "source_hidden": false
        },
        "nteract": {
          "transient": {
            "deleting": false
          }
        },
        "trusted": false
      },
      "id": "cdb8ce32-75fc-471f-aac4-6bd305315578"
    },
    {
      "cell_type": "code",
      "source": [
        "#execute the query which is not using index\n",
        "# expand \"Hide Query Metrics\" and observe the taken for the query\n",
        "%%sql --database RetailIngest --container WebsiteMetricsNoIndex --output df_cosmos\n",
        "select * from c where c.Price >=300"
      ],
      "outputs": [
        {
          "output_type": "display_data",
          "data": {
            "text/html": "\n<div>\n  <style type='text/css' scoped>\n.collapsible {\n  background-color: #fff;\n  color: #0078D4;\n  cursor: pointer;\n  padding: 10px;\n  border: none;\n  text-align: left;\n  outline: none;\n  font-size: 15px;\n  border-radius: 5px;\n  margin: 5px\n}\n\n.active, .collapsible:hover {\n  color: #4db2ff;\n}\n\n.content {\n  margin: 2px;\n  padding: 0 18px;\n  overflow: hidden;\n  background-color: #fff;\n  height: 0px;\n  -moz-transition: height .2s ease-out;\n  -ms-transition: height .2s ease-out;\n  -o-transition: height .2s ease-out;\n  -webkit-transition: height .2s ease-out;\n  transition: height .2s ease-out;\n}\n</style>\n\n<button type='button' class='collapsible'>� View Query Metrics</button>\n  \n<div class='content'>\n  <div class='measuringWrapper'>\n    <span style=\"color:#0078D4\"><b>totalExecutionTimeInMs    </b>:    7.81<br/><b>queryCompileTimeInMs    </b>:    0.05<br/><b>queryLogicalPlanBuildTimeInMs    </b>:    0.01<br/><b>queryPhysicalPlanBuildTimeInMs    </b>:    0.04<br/><b>queryOptimizationTimeInMs    </b>:    0<br/><b>VMExecutionTimeInMs    </b>:    7.56<br/><b>indexLookupTimeInMs    </b>:    0<br/><b>instructionCount    </b>:    16037<br/><b>documentLoadTimeInMs    </b>:    6.49<br/><b>systemFunctionExecuteTimeInMs    </b>:    0<br/><b>userFunctionExecuteTimeInMs    </b>:    0<br/><b>retrievedDocumentCount    </b>:    2654<br/><b>retrievedDocumentSize    </b>:    1366721<br/><b>outputDocumentCount    </b>:    54<br/><b>outputDocumentSize    </b>:    28215<br/><b>writeOutputTimeInMs    </b>:    0.02<br/><b>averageIndexUtilizationRation    </b>:    0.02<br/></span>\n  </div>\n</div>\n\n<script>\nvar coll = document.getElementsByClassName('collapsible');\nvar i;\n\nfor (i = 0; i < coll.length; i++) {\n  \n  coll[i].addEventListener('click', function() {\n    this.classList.toggle('active');\n    var content = this.nextElementSibling;\n    \n    if (content.clientHeight != 0) {\n      this.textContent = '� View Query Metrics';\n      content.style.height = '0px';\n    }\n    else {\n      this.textContent = '� Hide Query Metrics';\n      content.style.height = content.children[0].clientHeight + 'px';\n    }\n  });\n}\n</script>\n</div>"
          },
          "metadata": {}
        }
      ],
      "execution_count": 10,
      "metadata": {
        "collapsed": true,
        "execution": {
          "iopub.execute_input": "2023-03-15T14:26:00.283Z",
          "iopub.status.busy": "2023-03-15T14:26:00.271Z",
          "iopub.status.idle": "2023-03-15T14:26:00.306Z",
          "shell.execute_reply": "2023-03-15T14:26:00.302Z"
        },
        "jupyter": {
          "outputs_hidden": false,
          "source_hidden": false
        },
        "nteract": {
          "transient": {
            "deleting": false
          }
        },
        "trusted": false
      },
      "id": "c53d4f9c-9c64-476a-9f23-632ba1e81f16"
    }
  ],
  "metadata": {
    "language_info": {
      "name": "python",
      "version": "3.7",
      "mimetype": "application/json",
      "file_extension": "ipynb"
    },
    "nteract": {
      "version": "dataExplorer 1.0"
    }
  },
  "nbformat": 4,
  "nbformat_minor": 5
}